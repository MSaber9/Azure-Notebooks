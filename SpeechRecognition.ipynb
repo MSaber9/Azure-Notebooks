{
  "cells": [
    {
      "metadata": {},
      "cell_type": "markdown",
      "source": "### Speech Recognition"
    },
    {
      "metadata": {},
      "cell_type": "markdown",
      "source": "Welcome to the second stage of the competition between artificial and natural intelligence. First, you will listen to the audios and select the correct answer. \n\nNext, artificial intelligence takes a turn. AI team includes two fighters: Pocket Sphinx and Google. The task is to enter the recognized phrases."
    },
    {
      "metadata": {
        "trusted": true
      },
      "cell_type": "code",
      "source": "!pip install SpeechRecognition\n!conda install -y -c conda-forge pocketsphinx-python",
      "execution_count": 1,
      "outputs": [
        {
          "output_type": "stream",
          "text": "Collecting SpeechRecognition\n\u001b[?25l  Downloading https://files.pythonhosted.org/packages/26/e1/7f5678cd94ec1234269d23756dbdaa4c8cfaed973412f88ae8adf7893a50/SpeechRecognition-3.8.1-py2.py3-none-any.whl (32.8MB)\n\u001b[K     |████████████████████████████████| 32.8MB 5.6kB/s eta 0:00:01     |█████████████████████▎          | 21.9MB 2.0MB/s eta 0:00:06��███▋          | 22.1MB 2.0MB/s eta 0:00:06     |█████████████████████████       | 25.6MB 1.7MB/s eta 0:00:05kB/s eta 0:00:18kB/s eta 0:00:16��████▋   | 29.4MB 266kB/s eta 0:00:14��███████████████▊  | 30.5MB 266kB/s eta 0:00:09\n\u001b[?25hInstalling collected packages: SpeechRecognition\nSuccessfully installed SpeechRecognition-3.8.1\n\u001b[33mWARNING: You are using pip version 19.1, however version 19.1.1 is available.\nYou should consider upgrading via the 'pip install --upgrade pip' command.\u001b[0m\nSolving environment: done\n\n\n==> WARNING: A newer version of conda exists. <==\n  current version: 4.5.11\n  latest version: 4.6.14\n\nPlease update conda by running\n\n    $ conda update -n base -c defaults conda\n\n\n\n## Package Plan ##\n\n  environment location: /home/nbuser/anaconda3_501\n\n  added / updated specs: \n    - pocketsphinx-python\n\n\nThe following packages will be downloaded:\n\n    package                    |            build\n    ---------------------------|-----------------\n    conda-4.6.14               |           py36_0         2.1 MB  conda-forge\n    pocketsphinx-python-0.1.3  |   py36h470a237_0        29.3 MB  conda-forge\n    ------------------------------------------------------------\n                                           Total:        31.4 MB\n\nThe following NEW packages will be INSTALLED:\n\n    pocketsphinx-python: 0.1.3-py36h470a237_0 conda-forge\n\nThe following packages will be UPDATED:\n\n    conda:               4.5.11-py36_0                    --> 4.6.14-py36_0 conda-forge\n\n\nDownloading and Extracting Packages\nconda-4.6.14         | 2.1 MB    | ##################################### | 100% \npocketsphinx-python- | 29.3 MB   | ##################################### | 100% \nPreparing transaction: done\nVerifying transaction: done\nExecuting transaction: done\n",
          "name": "stdout"
        }
      ]
    },
    {
      "metadata": {
        "trusted": true
      },
      "cell_type": "code",
      "source": "",
      "execution_count": null,
      "outputs": []
    },
    {
      "metadata": {
        "trusted": true
      },
      "cell_type": "code",
      "source": "import speech_recognition as sr\nimport csv\n\n#Name of the input file\nAUDIO_FILE = \"01.wav\"\n\n# use the audio file as the audio source\nr = sr.Recognizer()\n\nwith sr.AudioFile(AUDIO_FILE) as source:\n audio = r.record(source) # read the entire audio file\n# recognize speech using Sphinx\ntry:\n print(\"Sphinx: \" + r.recognize_sphinx(audio))\nexcept sr.UnknownValueError:\n print(\"Sphinx could not understand audio\")\nexcept sr.RequestError as e:\n print(\"Sphinx error; {0}\".format(e))\n# recognize speech using Google Speech Recognition\ntry:\n print(\"Google: \" + r.recognize_google(audio))\nexcept sr.UnknownValueError:\n print(\"Google Speech Recognition could not understand audio\")\nexcept sr.RequestError as e:\n print(\"Could not request results from Google; {0}\".format(e))",
      "execution_count": 2,
      "outputs": [
        {
          "output_type": "stream",
          "text": "Sphinx: don't give up in a shop\nGoogle: don't give up your day job\n",
          "name": "stdout"
        }
      ]
    },
    {
      "metadata": {
        "trusted": true
      },
      "cell_type": "code",
      "source": "import speech_recognition as sr\nimport csv\n\n#Name of the input file\nAUDIO_FILE = \"02.wav\"\n\n# use the audio file as the audio source\nr = sr.Recognizer()\n\nwith sr.AudioFile(AUDIO_FILE) as source:\n audio = r.record(source) # read the entire audio file\n# recognize speech using Sphinx\ntry:\n print(\"Sphinx: \" + r.recognize_sphinx(audio))\nexcept sr.UnknownValueError:\n print(\"Sphinx could not understand audio\")\nexcept sr.RequestError as e:\n print(\"Sphinx error; {0}\".format(e))\n# recognize speech using Google Speech Recognition\ntry:\n print(\"Google: \" + r.recognize_google(audio))\nexcept sr.UnknownValueError:\n print(\"Google Speech Recognition could not understand audio\")\nexcept sr.RequestError as e:\n print(\"Could not request results from Google; {0}\".format(e))",
      "execution_count": 3,
      "outputs": [
        {
          "output_type": "stream",
          "text": "Sphinx: he has bigger fish to fry\nGoogle: he has bigger fish to fry\n",
          "name": "stdout"
        }
      ]
    },
    {
      "metadata": {
        "trusted": true
      },
      "cell_type": "code",
      "source": "import speech_recognition as sr\nimport csv\n\n#Name of the input file\nAUDIO_FILE = \"03.wav\"\n\n# use the audio file as the audio source\nr = sr.Recognizer()\n\nwith sr.AudioFile(AUDIO_FILE) as source:\n audio = r.record(source) # read the entire audio file\n# recognize speech using Sphinx\ntry:\n print(\"Sphinx: \" + r.recognize_sphinx(audio))\nexcept sr.UnknownValueError:\n print(\"Sphinx could not understand audio\")\nexcept sr.RequestError as e:\n print(\"Sphinx error; {0}\".format(e))\n# recognize speech using Google Speech Recognition\ntry:\n print(\"Google: \" + r.recognize_google(audio))\nexcept sr.UnknownValueError:\n print(\"Google Speech Recognition could not understand audio\")\nexcept sr.RequestError as e:\n print(\"Could not request results from Google; {0}\".format(e))",
      "execution_count": 4,
      "outputs": [
        {
          "output_type": "stream",
          "text": "Sphinx: he knows which way the wind is blowing\nGoogle: who knows which way the wind is blowing\n",
          "name": "stdout"
        }
      ]
    },
    {
      "metadata": {
        "trusted": true
      },
      "cell_type": "code",
      "source": "import speech_recognition as sr\nimport csv\n\n#Name of the input file\nAUDIO_FILE = \"04.wav\"\n\n# use the audio file as the audio source\nr = sr.Recognizer()\n\nwith sr.AudioFile(AUDIO_FILE) as source:\n audio = r.record(source) # read the entire audio file\n# recognize speech using Sphinx\ntry:\n print(\"Sphinx: \" + r.recognize_sphinx(audio))\nexcept sr.UnknownValueError:\n print(\"Sphinx could not understand audio\")\nexcept sr.RequestError as e:\n print(\"Sphinx error; {0}\".format(e))\n# recognize speech using Google Speech Recognition\ntry:\n print(\"Google: \" + r.recognize_google(audio))\nexcept sr.UnknownValueError:\n print(\"Google Speech Recognition could not understand audio\")\nexcept sr.RequestError as e:\n print(\"Could not request results from Google; {0}\".format(e))",
      "execution_count": 5,
      "outputs": [
        {
          "output_type": "stream",
          "text": "Sphinx: though prone to chickens before they had chief\nGoogle: don't count your chickens before they hatch\n",
          "name": "stdout"
        }
      ]
    },
    {
      "metadata": {
        "trusted": true
      },
      "cell_type": "code",
      "source": "import speech_recognition as sr\nimport csv\n\n#Name of the input file\nAUDIO_FILE = \"05.wav\"\n\n# use the audio file as the audio source\nr = sr.Recognizer()\n\nwith sr.AudioFile(AUDIO_FILE) as source:\n audio = r.record(source) # read the entire audio file\n# recognize speech using Sphinx\ntry:\n print(\"Sphinx: \" + r.recognize_sphinx(audio))\nexcept sr.UnknownValueError:\n print(\"Sphinx could not understand audio\")\nexcept sr.RequestError as e:\n print(\"Sphinx error; {0}\".format(e))\n# recognize speech using Google Speech Recognition\ntry:\n print(\"Google: \" + r.recognize_google(audio))\nexcept sr.UnknownValueError:\n print(\"Google Speech Recognition could not understand audio\")\nexcept sr.RequestError as e:\n print(\"Could not request results from Google; {0}\".format(e))",
      "execution_count": 6,
      "outputs": [
        {
          "output_type": "stream",
          "text": "Sphinx: don't go to bully tactics in one basket\nGoogle: don't put all your eggs in one basket\n",
          "name": "stdout"
        }
      ]
    },
    {
      "metadata": {
        "trusted": true
      },
      "cell_type": "code",
      "source": "import speech_recognition as sr\nimport csv\n\n#Name of the input file\nAUDIO_FILE = \"06.wav\"\n\n# use the audio file as the audio source\nr = sr.Recognizer()\n\nwith sr.AudioFile(AUDIO_FILE) as source:\n audio = r.record(source) # read the entire audio file\n# recognize speech using Sphinx\ntry:\n print(\"Sphinx: \" + r.recognize_sphinx(audio))\nexcept sr.UnknownValueError:\n print(\"Sphinx could not understand audio\")\nexcept sr.RequestError as e:\n print(\"Sphinx error; {0}\".format(e))\n# recognize speech using Google Speech Recognition\ntry:\n print(\"Google: \" + r.recognize_google(audio))\nexcept sr.UnknownValueError:\n print(\"Google Speech Recognition could not understand audio\")\nexcept sr.RequestError as e:\n print(\"Could not request results from Google; {0}\".format(e))",
      "execution_count": 11,
      "outputs": [
        {
          "output_type": "stream",
          "text": "Sphinx: he then nail on the hat\nGoogle: hit the nail on the head\n",
          "name": "stdout"
        }
      ]
    },
    {
      "metadata": {
        "trusted": true
      },
      "cell_type": "code",
      "source": "import speech_recognition as sr\nimport csv\n\n#Name of the input file\nAUDIO_FILE = \"07.wav\"\n\n# use the audio file as the audio source\nr = sr.Recognizer()\n\nwith sr.AudioFile(AUDIO_FILE) as source:\n audio = r.record(source) # read the entire audio file\n# recognize speech using Sphinx\ntry:\n print(\"Sphinx: \" + r.recognize_sphinx(audio))\nexcept sr.UnknownValueError:\n print(\"Sphinx could not understand audio\")\nexcept sr.RequestError as e:\n print(\"Sphinx error; {0}\".format(e))\n# recognize speech using Google Speech Recognition\ntry:\n print(\"Google: \" + r.recognize_google(audio))\nexcept sr.UnknownValueError:\n print(\"Google Speech Recognition could not understand audio\")\nexcept sr.RequestError as e:\n print(\"Could not request results from Google; {0}\".format(e))",
      "execution_count": 8,
      "outputs": [
        {
          "output_type": "stream",
          "text": "Sphinx: and they're about can change his spots\nGoogle: and their parts can change his spots\n",
          "name": "stdout"
        }
      ]
    },
    {
      "metadata": {
        "trusted": true
      },
      "cell_type": "code",
      "source": "",
      "execution_count": null,
      "outputs": []
    },
    {
      "metadata": {},
      "cell_type": "markdown",
      "source": "END"
    }
  ],
  "metadata": {
    "kernelspec": {
      "name": "python36",
      "display_name": "Python 3.6",
      "language": "python"
    },
    "language_info": {
      "mimetype": "text/x-python",
      "nbconvert_exporter": "python",
      "name": "python",
      "pygments_lexer": "ipython3",
      "version": "3.6.6",
      "file_extension": ".py",
      "codemirror_mode": {
        "version": 3,
        "name": "ipython"
      }
    }
  },
  "nbformat": 4,
  "nbformat_minor": 1
}